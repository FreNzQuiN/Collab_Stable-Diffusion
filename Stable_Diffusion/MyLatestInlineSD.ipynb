{
  "nbformat": 4,
  "nbformat_minor": 0,
  "metadata": {
    "colab": {
      "provenance": [],
      "gpuType": "T4",
      "include_colab_link": true
    },
    "kernelspec": {
      "name": "python3",
      "display_name": "Python 3"
    },
    "language_info": {
      "name": "python"
    },
    "accelerator": "GPU",
    "widgets": {
      "application/vnd.jupyter.widget-state+json": {
        "a479ffbc59df471092d22f6278008763": {
          "model_module": "@jupyter-widgets/controls",
          "model_name": "HBoxModel",
          "model_module_version": "1.5.0",
          "state": {
            "_dom_classes": [],
            "_model_module": "@jupyter-widgets/controls",
            "_model_module_version": "1.5.0",
            "_model_name": "HBoxModel",
            "_view_count": null,
            "_view_module": "@jupyter-widgets/controls",
            "_view_module_version": "1.5.0",
            "_view_name": "HBoxView",
            "box_style": "",
            "children": [
              "IPY_MODEL_d20369c603d042c58dbd727507dd2598",
              "IPY_MODEL_0262900a3c1a4010a920f6ab5d5bf32c",
              "IPY_MODEL_65a8babaf1ea40838adb761c400122e5"
            ],
            "layout": "IPY_MODEL_0f75f398c79b4535983f1433420b6d1d"
          }
        },
        "d20369c603d042c58dbd727507dd2598": {
          "model_module": "@jupyter-widgets/controls",
          "model_name": "HTMLModel",
          "model_module_version": "1.5.0",
          "state": {
            "_dom_classes": [],
            "_model_module": "@jupyter-widgets/controls",
            "_model_module_version": "1.5.0",
            "_model_name": "HTMLModel",
            "_view_count": null,
            "_view_module": "@jupyter-widgets/controls",
            "_view_module_version": "1.5.0",
            "_view_name": "HTMLView",
            "description": "",
            "description_tooltip": null,
            "layout": "IPY_MODEL_98770969595b47488a0e71364d35b5f0",
            "placeholder": "​",
            "style": "IPY_MODEL_a7114f3b17da4832a4335a04416a8dff",
            "value": "100%"
          }
        },
        "0262900a3c1a4010a920f6ab5d5bf32c": {
          "model_module": "@jupyter-widgets/controls",
          "model_name": "FloatProgressModel",
          "model_module_version": "1.5.0",
          "state": {
            "_dom_classes": [],
            "_model_module": "@jupyter-widgets/controls",
            "_model_module_version": "1.5.0",
            "_model_name": "FloatProgressModel",
            "_view_count": null,
            "_view_module": "@jupyter-widgets/controls",
            "_view_module_version": "1.5.0",
            "_view_name": "ProgressView",
            "bar_style": "success",
            "description": "",
            "description_tooltip": null,
            "layout": "IPY_MODEL_e7561d16ee444a5b95292efd1f16e416",
            "max": 28,
            "min": 0,
            "orientation": "horizontal",
            "style": "IPY_MODEL_80822e1cc77e47668ba2286d80b08f84",
            "value": 28
          }
        },
        "65a8babaf1ea40838adb761c400122e5": {
          "model_module": "@jupyter-widgets/controls",
          "model_name": "HTMLModel",
          "model_module_version": "1.5.0",
          "state": {
            "_dom_classes": [],
            "_model_module": "@jupyter-widgets/controls",
            "_model_module_version": "1.5.0",
            "_model_name": "HTMLModel",
            "_view_count": null,
            "_view_module": "@jupyter-widgets/controls",
            "_view_module_version": "1.5.0",
            "_view_name": "HTMLView",
            "description": "",
            "description_tooltip": null,
            "layout": "IPY_MODEL_5c536d044efc4510bad0287ecfbcc6f6",
            "placeholder": "​",
            "style": "IPY_MODEL_8159a6150afa472b8976c8ea2ec4e241",
            "value": " 28/28 [00:33&lt;00:00,  1.21s/it]"
          }
        },
        "0f75f398c79b4535983f1433420b6d1d": {
          "model_module": "@jupyter-widgets/base",
          "model_name": "LayoutModel",
          "model_module_version": "1.2.0",
          "state": {
            "_model_module": "@jupyter-widgets/base",
            "_model_module_version": "1.2.0",
            "_model_name": "LayoutModel",
            "_view_count": null,
            "_view_module": "@jupyter-widgets/base",
            "_view_module_version": "1.2.0",
            "_view_name": "LayoutView",
            "align_content": null,
            "align_items": null,
            "align_self": null,
            "border": null,
            "bottom": null,
            "display": null,
            "flex": null,
            "flex_flow": null,
            "grid_area": null,
            "grid_auto_columns": null,
            "grid_auto_flow": null,
            "grid_auto_rows": null,
            "grid_column": null,
            "grid_gap": null,
            "grid_row": null,
            "grid_template_areas": null,
            "grid_template_columns": null,
            "grid_template_rows": null,
            "height": null,
            "justify_content": null,
            "justify_items": null,
            "left": null,
            "margin": null,
            "max_height": null,
            "max_width": null,
            "min_height": null,
            "min_width": null,
            "object_fit": null,
            "object_position": null,
            "order": null,
            "overflow": null,
            "overflow_x": null,
            "overflow_y": null,
            "padding": null,
            "right": null,
            "top": null,
            "visibility": null,
            "width": null
          }
        },
        "98770969595b47488a0e71364d35b5f0": {
          "model_module": "@jupyter-widgets/base",
          "model_name": "LayoutModel",
          "model_module_version": "1.2.0",
          "state": {
            "_model_module": "@jupyter-widgets/base",
            "_model_module_version": "1.2.0",
            "_model_name": "LayoutModel",
            "_view_count": null,
            "_view_module": "@jupyter-widgets/base",
            "_view_module_version": "1.2.0",
            "_view_name": "LayoutView",
            "align_content": null,
            "align_items": null,
            "align_self": null,
            "border": null,
            "bottom": null,
            "display": null,
            "flex": null,
            "flex_flow": null,
            "grid_area": null,
            "grid_auto_columns": null,
            "grid_auto_flow": null,
            "grid_auto_rows": null,
            "grid_column": null,
            "grid_gap": null,
            "grid_row": null,
            "grid_template_areas": null,
            "grid_template_columns": null,
            "grid_template_rows": null,
            "height": null,
            "justify_content": null,
            "justify_items": null,
            "left": null,
            "margin": null,
            "max_height": null,
            "max_width": null,
            "min_height": null,
            "min_width": null,
            "object_fit": null,
            "object_position": null,
            "order": null,
            "overflow": null,
            "overflow_x": null,
            "overflow_y": null,
            "padding": null,
            "right": null,
            "top": null,
            "visibility": null,
            "width": null
          }
        },
        "a7114f3b17da4832a4335a04416a8dff": {
          "model_module": "@jupyter-widgets/controls",
          "model_name": "DescriptionStyleModel",
          "model_module_version": "1.5.0",
          "state": {
            "_model_module": "@jupyter-widgets/controls",
            "_model_module_version": "1.5.0",
            "_model_name": "DescriptionStyleModel",
            "_view_count": null,
            "_view_module": "@jupyter-widgets/base",
            "_view_module_version": "1.2.0",
            "_view_name": "StyleView",
            "description_width": ""
          }
        },
        "e7561d16ee444a5b95292efd1f16e416": {
          "model_module": "@jupyter-widgets/base",
          "model_name": "LayoutModel",
          "model_module_version": "1.2.0",
          "state": {
            "_model_module": "@jupyter-widgets/base",
            "_model_module_version": "1.2.0",
            "_model_name": "LayoutModel",
            "_view_count": null,
            "_view_module": "@jupyter-widgets/base",
            "_view_module_version": "1.2.0",
            "_view_name": "LayoutView",
            "align_content": null,
            "align_items": null,
            "align_self": null,
            "border": null,
            "bottom": null,
            "display": null,
            "flex": null,
            "flex_flow": null,
            "grid_area": null,
            "grid_auto_columns": null,
            "grid_auto_flow": null,
            "grid_auto_rows": null,
            "grid_column": null,
            "grid_gap": null,
            "grid_row": null,
            "grid_template_areas": null,
            "grid_template_columns": null,
            "grid_template_rows": null,
            "height": null,
            "justify_content": null,
            "justify_items": null,
            "left": null,
            "margin": null,
            "max_height": null,
            "max_width": null,
            "min_height": null,
            "min_width": null,
            "object_fit": null,
            "object_position": null,
            "order": null,
            "overflow": null,
            "overflow_x": null,
            "overflow_y": null,
            "padding": null,
            "right": null,
            "top": null,
            "visibility": null,
            "width": null
          }
        },
        "80822e1cc77e47668ba2286d80b08f84": {
          "model_module": "@jupyter-widgets/controls",
          "model_name": "ProgressStyleModel",
          "model_module_version": "1.5.0",
          "state": {
            "_model_module": "@jupyter-widgets/controls",
            "_model_module_version": "1.5.0",
            "_model_name": "ProgressStyleModel",
            "_view_count": null,
            "_view_module": "@jupyter-widgets/base",
            "_view_module_version": "1.2.0",
            "_view_name": "StyleView",
            "bar_color": null,
            "description_width": ""
          }
        },
        "5c536d044efc4510bad0287ecfbcc6f6": {
          "model_module": "@jupyter-widgets/base",
          "model_name": "LayoutModel",
          "model_module_version": "1.2.0",
          "state": {
            "_model_module": "@jupyter-widgets/base",
            "_model_module_version": "1.2.0",
            "_model_name": "LayoutModel",
            "_view_count": null,
            "_view_module": "@jupyter-widgets/base",
            "_view_module_version": "1.2.0",
            "_view_name": "LayoutView",
            "align_content": null,
            "align_items": null,
            "align_self": null,
            "border": null,
            "bottom": null,
            "display": null,
            "flex": null,
            "flex_flow": null,
            "grid_area": null,
            "grid_auto_columns": null,
            "grid_auto_flow": null,
            "grid_auto_rows": null,
            "grid_column": null,
            "grid_gap": null,
            "grid_row": null,
            "grid_template_areas": null,
            "grid_template_columns": null,
            "grid_template_rows": null,
            "height": null,
            "justify_content": null,
            "justify_items": null,
            "left": null,
            "margin": null,
            "max_height": null,
            "max_width": null,
            "min_height": null,
            "min_width": null,
            "object_fit": null,
            "object_position": null,
            "order": null,
            "overflow": null,
            "overflow_x": null,
            "overflow_y": null,
            "padding": null,
            "right": null,
            "top": null,
            "visibility": null,
            "width": null
          }
        },
        "8159a6150afa472b8976c8ea2ec4e241": {
          "model_module": "@jupyter-widgets/controls",
          "model_name": "DescriptionStyleModel",
          "model_module_version": "1.5.0",
          "state": {
            "_model_module": "@jupyter-widgets/controls",
            "_model_module_version": "1.5.0",
            "_model_name": "DescriptionStyleModel",
            "_view_count": null,
            "_view_module": "@jupyter-widgets/base",
            "_view_module_version": "1.2.0",
            "_view_name": "StyleView",
            "description_width": ""
          }
        },
        "1c9596ca147c4cbf96c7316d546f2af6": {
          "model_module": "@jupyter-widgets/controls",
          "model_name": "HBoxModel",
          "model_module_version": "1.5.0",
          "state": {
            "_dom_classes": [],
            "_model_module": "@jupyter-widgets/controls",
            "_model_module_version": "1.5.0",
            "_model_name": "HBoxModel",
            "_view_count": null,
            "_view_module": "@jupyter-widgets/controls",
            "_view_module_version": "1.5.0",
            "_view_name": "HBoxView",
            "box_style": "",
            "children": [
              "IPY_MODEL_ffa55d8fc88c44ecb5ec637b1a53d368",
              "IPY_MODEL_9433291a7f944d63a9c395829dff705b",
              "IPY_MODEL_a809f509944a4cdab4926e2389edd14a"
            ],
            "layout": "IPY_MODEL_7c79d9a645114721b7b18fb271dfe62e"
          }
        },
        "ffa55d8fc88c44ecb5ec637b1a53d368": {
          "model_module": "@jupyter-widgets/controls",
          "model_name": "HTMLModel",
          "model_module_version": "1.5.0",
          "state": {
            "_dom_classes": [],
            "_model_module": "@jupyter-widgets/controls",
            "_model_module_version": "1.5.0",
            "_model_name": "HTMLModel",
            "_view_count": null,
            "_view_module": "@jupyter-widgets/controls",
            "_view_module_version": "1.5.0",
            "_view_name": "HTMLView",
            "description": "",
            "description_tooltip": null,
            "layout": "IPY_MODEL_08742e537f5b43cf9008a5122309bccd",
            "placeholder": "​",
            "style": "IPY_MODEL_29d3294d25af43e9839e261eda8b652e",
            "value": " 39%"
          }
        },
        "9433291a7f944d63a9c395829dff705b": {
          "model_module": "@jupyter-widgets/controls",
          "model_name": "FloatProgressModel",
          "model_module_version": "1.5.0",
          "state": {
            "_dom_classes": [],
            "_model_module": "@jupyter-widgets/controls",
            "_model_module_version": "1.5.0",
            "_model_name": "FloatProgressModel",
            "_view_count": null,
            "_view_module": "@jupyter-widgets/controls",
            "_view_module_version": "1.5.0",
            "_view_name": "ProgressView",
            "bar_style": "",
            "description": "",
            "description_tooltip": null,
            "layout": "IPY_MODEL_508a4af09446495c9f24d8f86dee3306",
            "max": 28,
            "min": 0,
            "orientation": "horizontal",
            "style": "IPY_MODEL_94a2d7139b594b6f82e35ef2f30c09b4",
            "value": 11
          }
        },
        "a809f509944a4cdab4926e2389edd14a": {
          "model_module": "@jupyter-widgets/controls",
          "model_name": "HTMLModel",
          "model_module_version": "1.5.0",
          "state": {
            "_dom_classes": [],
            "_model_module": "@jupyter-widgets/controls",
            "_model_module_version": "1.5.0",
            "_model_name": "HTMLModel",
            "_view_count": null,
            "_view_module": "@jupyter-widgets/controls",
            "_view_module_version": "1.5.0",
            "_view_name": "HTMLView",
            "description": "",
            "description_tooltip": null,
            "layout": "IPY_MODEL_25a0172e869c4012a24017020990f1f5",
            "placeholder": "​",
            "style": "IPY_MODEL_04a7c8ce291f4301b53a500f5c0cc5b5",
            "value": " 11/28 [00:13&lt;00:20,  1.24s/it]"
          }
        },
        "7c79d9a645114721b7b18fb271dfe62e": {
          "model_module": "@jupyter-widgets/base",
          "model_name": "LayoutModel",
          "model_module_version": "1.2.0",
          "state": {
            "_model_module": "@jupyter-widgets/base",
            "_model_module_version": "1.2.0",
            "_model_name": "LayoutModel",
            "_view_count": null,
            "_view_module": "@jupyter-widgets/base",
            "_view_module_version": "1.2.0",
            "_view_name": "LayoutView",
            "align_content": null,
            "align_items": null,
            "align_self": null,
            "border": null,
            "bottom": null,
            "display": null,
            "flex": null,
            "flex_flow": null,
            "grid_area": null,
            "grid_auto_columns": null,
            "grid_auto_flow": null,
            "grid_auto_rows": null,
            "grid_column": null,
            "grid_gap": null,
            "grid_row": null,
            "grid_template_areas": null,
            "grid_template_columns": null,
            "grid_template_rows": null,
            "height": null,
            "justify_content": null,
            "justify_items": null,
            "left": null,
            "margin": null,
            "max_height": null,
            "max_width": null,
            "min_height": null,
            "min_width": null,
            "object_fit": null,
            "object_position": null,
            "order": null,
            "overflow": null,
            "overflow_x": null,
            "overflow_y": null,
            "padding": null,
            "right": null,
            "top": null,
            "visibility": null,
            "width": null
          }
        },
        "08742e537f5b43cf9008a5122309bccd": {
          "model_module": "@jupyter-widgets/base",
          "model_name": "LayoutModel",
          "model_module_version": "1.2.0",
          "state": {
            "_model_module": "@jupyter-widgets/base",
            "_model_module_version": "1.2.0",
            "_model_name": "LayoutModel",
            "_view_count": null,
            "_view_module": "@jupyter-widgets/base",
            "_view_module_version": "1.2.0",
            "_view_name": "LayoutView",
            "align_content": null,
            "align_items": null,
            "align_self": null,
            "border": null,
            "bottom": null,
            "display": null,
            "flex": null,
            "flex_flow": null,
            "grid_area": null,
            "grid_auto_columns": null,
            "grid_auto_flow": null,
            "grid_auto_rows": null,
            "grid_column": null,
            "grid_gap": null,
            "grid_row": null,
            "grid_template_areas": null,
            "grid_template_columns": null,
            "grid_template_rows": null,
            "height": null,
            "justify_content": null,
            "justify_items": null,
            "left": null,
            "margin": null,
            "max_height": null,
            "max_width": null,
            "min_height": null,
            "min_width": null,
            "object_fit": null,
            "object_position": null,
            "order": null,
            "overflow": null,
            "overflow_x": null,
            "overflow_y": null,
            "padding": null,
            "right": null,
            "top": null,
            "visibility": null,
            "width": null
          }
        },
        "29d3294d25af43e9839e261eda8b652e": {
          "model_module": "@jupyter-widgets/controls",
          "model_name": "DescriptionStyleModel",
          "model_module_version": "1.5.0",
          "state": {
            "_model_module": "@jupyter-widgets/controls",
            "_model_module_version": "1.5.0",
            "_model_name": "DescriptionStyleModel",
            "_view_count": null,
            "_view_module": "@jupyter-widgets/base",
            "_view_module_version": "1.2.0",
            "_view_name": "StyleView",
            "description_width": ""
          }
        },
        "508a4af09446495c9f24d8f86dee3306": {
          "model_module": "@jupyter-widgets/base",
          "model_name": "LayoutModel",
          "model_module_version": "1.2.0",
          "state": {
            "_model_module": "@jupyter-widgets/base",
            "_model_module_version": "1.2.0",
            "_model_name": "LayoutModel",
            "_view_count": null,
            "_view_module": "@jupyter-widgets/base",
            "_view_module_version": "1.2.0",
            "_view_name": "LayoutView",
            "align_content": null,
            "align_items": null,
            "align_self": null,
            "border": null,
            "bottom": null,
            "display": null,
            "flex": null,
            "flex_flow": null,
            "grid_area": null,
            "grid_auto_columns": null,
            "grid_auto_flow": null,
            "grid_auto_rows": null,
            "grid_column": null,
            "grid_gap": null,
            "grid_row": null,
            "grid_template_areas": null,
            "grid_template_columns": null,
            "grid_template_rows": null,
            "height": null,
            "justify_content": null,
            "justify_items": null,
            "left": null,
            "margin": null,
            "max_height": null,
            "max_width": null,
            "min_height": null,
            "min_width": null,
            "object_fit": null,
            "object_position": null,
            "order": null,
            "overflow": null,
            "overflow_x": null,
            "overflow_y": null,
            "padding": null,
            "right": null,
            "top": null,
            "visibility": null,
            "width": null
          }
        },
        "94a2d7139b594b6f82e35ef2f30c09b4": {
          "model_module": "@jupyter-widgets/controls",
          "model_name": "ProgressStyleModel",
          "model_module_version": "1.5.0",
          "state": {
            "_model_module": "@jupyter-widgets/controls",
            "_model_module_version": "1.5.0",
            "_model_name": "ProgressStyleModel",
            "_view_count": null,
            "_view_module": "@jupyter-widgets/base",
            "_view_module_version": "1.2.0",
            "_view_name": "StyleView",
            "bar_color": null,
            "description_width": ""
          }
        },
        "25a0172e869c4012a24017020990f1f5": {
          "model_module": "@jupyter-widgets/base",
          "model_name": "LayoutModel",
          "model_module_version": "1.2.0",
          "state": {
            "_model_module": "@jupyter-widgets/base",
            "_model_module_version": "1.2.0",
            "_model_name": "LayoutModel",
            "_view_count": null,
            "_view_module": "@jupyter-widgets/base",
            "_view_module_version": "1.2.0",
            "_view_name": "LayoutView",
            "align_content": null,
            "align_items": null,
            "align_self": null,
            "border": null,
            "bottom": null,
            "display": null,
            "flex": null,
            "flex_flow": null,
            "grid_area": null,
            "grid_auto_columns": null,
            "grid_auto_flow": null,
            "grid_auto_rows": null,
            "grid_column": null,
            "grid_gap": null,
            "grid_row": null,
            "grid_template_areas": null,
            "grid_template_columns": null,
            "grid_template_rows": null,
            "height": null,
            "justify_content": null,
            "justify_items": null,
            "left": null,
            "margin": null,
            "max_height": null,
            "max_width": null,
            "min_height": null,
            "min_width": null,
            "object_fit": null,
            "object_position": null,
            "order": null,
            "overflow": null,
            "overflow_x": null,
            "overflow_y": null,
            "padding": null,
            "right": null,
            "top": null,
            "visibility": null,
            "width": null
          }
        },
        "04a7c8ce291f4301b53a500f5c0cc5b5": {
          "model_module": "@jupyter-widgets/controls",
          "model_name": "DescriptionStyleModel",
          "model_module_version": "1.5.0",
          "state": {
            "_model_module": "@jupyter-widgets/controls",
            "_model_module_version": "1.5.0",
            "_model_name": "DescriptionStyleModel",
            "_view_count": null,
            "_view_module": "@jupyter-widgets/base",
            "_view_module_version": "1.2.0",
            "_view_name": "StyleView",
            "description_width": ""
          }
        }
      }
    }
  },
  "cells": [
    {
      "cell_type": "markdown",
      "metadata": {
        "id": "view-in-github",
        "colab_type": "text"
      },
      "source": [
        "<a href=\"https://colab.research.google.com/github/FreNzQuiN/Collab_Stable-Diffusion/blob/main/MyLatestInlineSD.ipynb\" target=\"_parent\"><img src=\"https://colab.research.google.com/assets/colab-badge.svg\" alt=\"Open In Colab\"/></a>"
      ]
    },
    {
      "cell_type": "code",
      "source": [
        "#@title #**1.1 START TEXT2IMG SD**\n",
        "!pip install -q --upgrade diffusers invisible_watermark transformers accelerate safetensors compel\n",
        "import torch\n",
        "from torch import autocast\n",
        "from diffusers import StableDiffusionXLPipeline, DDIMScheduler #EulerAncestralDiscreteScheduler,\n",
        "\n",
        "# model = \"linaqruf/animagine-xl\"\n",
        "# pipe = StableDiffusionXLPipeline.from_pretrained(\n",
        "#     model,\n",
        "#     torch_dtype=torch.float16,\n",
        "#     use_safetensors=True,\n",
        "#     safety_checker = None,\n",
        "#     requires_safety_checker = False,\n",
        "#     variant=\"fp16\",\n",
        "#     )\n",
        "\n",
        "pipe = StableDiffusionXLPipeline.from_pretrained(\n",
        "    \"cagliostrolab/animagine-xl-4.0\",\n",
        "    torch_dtype=torch.float16,\n",
        "    use_safetensors=True,\n",
        "    custom_pipeline=\"lpw_stable_diffusion_xl\",\n",
        "    add_watermarker=False\n",
        "    )\n",
        "\n",
        "pipe.scheduler = DDIMScheduler(beta_start=0.00085, beta_end=0.012, beta_schedule=\"scaled_linear\", clip_sample=False, set_alpha_to_one=False)\n",
        "pipe.to('cuda')\n"
      ],
      "metadata": {
        "id": "yOZXfJRCqFg0"
      },
      "execution_count": null,
      "outputs": []
    },
    {
      "cell_type": "code",
      "source": [
        "#@title #**1.2 START IMG2IMG SD**\n",
        "from diffusers import StableDiffusionXLImg2ImgPipeline\n",
        "from diffusers.utils import load_image\n",
        "\n",
        "pipe = StableDiffusionXLImg2ImgPipeline.from_pretrained(\n",
        "    \"stabilityai/stable-diffusion-xl-refiner-1.0\", torch_dtype=torch.float16, variant=\"fp16\", use_safetensors=True\n",
        ")\n",
        "pipe.to(\"cuda\")\n",
        "pipe.unet = torch.compile(pipe.unet, mode=\"reduce-overhead\", fullgraph=True)"
      ],
      "metadata": {
        "id": "EgM8KpjQpmn9"
      },
      "execution_count": null,
      "outputs": []
    },
    {
      "cell_type": "code",
      "source": [
        "num=0\n",
        "prompt_num=3\n",
        "def disabled_safety_checker(images, clip_input):\n",
        "    if len(images.shape)==4:\n",
        "        num_images = images.shape[0]\n",
        "        return images, [False]*num_images\n",
        "    else:\n",
        "        return images, False\n",
        "pipe.safety_checker = disabled_safety_checker"
      ],
      "metadata": {
        "id": "TX5cV32X0-yJ"
      },
      "execution_count": 117,
      "outputs": []
    },
    {
      "cell_type": "code",
      "source": [
        "#@title #**2.1 PLAY TEXT2IMG SD**\n",
        "from compel import Compel, ReturnedEmbeddingsType\n",
        "import matplotlib.pyplot as plt\n",
        "from PIL import Image\n",
        "import random\n",
        "import time\n",
        "import math\n",
        "import torch, gc\n",
        "\n",
        "textFile = open(f\"prompt{prompt_num}.txt\", \"a\")\n",
        "\n",
        "amount = 5 #@param {type:'integer'}\n",
        "prompt = \"1girl, goldenglow \\(arknights\\), arknights \\(series\\), dutch angle, looking at viewer, cgdct, cute, solo, smile, light particles, casual, beautiful background, blush, outdoors, park, medium breast, from front, depth of field, very smooth line, year 2024, masterpiece, high score, great score, absurdres\" #@param {type:'string'}\n",
        "negative_prompt = \"lowres, bad anatomy, bad hands, text, error, missing finger, extra digits, fewer digits, cropped, worst quality, low quality, low score, bad score, average score, signature, watermark, username, blurry\" #@param {type:'string'}\n",
        "outputbase = \"/content/anime_girl\" #@param {type:'string'}\n",
        "startNum = num\n",
        "\n",
        "# compel = Compel(\n",
        "#   tokenizer=[pipe.tokenizer, pipe.tokenizer_2] ,\n",
        "#   text_encoder=[pipe.text_encoder, pipe.text_encoder_2],\n",
        "#   returned_embeddings_type=ReturnedEmbeddingsType.PENULTIMATE_HIDDEN_STATES_NON_NORMALIZED,\n",
        "#   requires_pooled=[False, True]\n",
        "# )\n",
        "# conditioning, pooled = compel(prompt)\n",
        "W = 1024 #@param {type:'integer'}\n",
        "H = 1424 #@param {type:'integer'}\n",
        "guidance_scale = 5 #@param {type:'number'}\n",
        "guidance_rescale = 0.9 #@param {type:'number'}\n",
        "num_inference_steps = 28 #@param {type:'integer'}\n",
        "rand = True #@param {type:'boolean'}\n",
        "start = time.time()\n",
        "arrayTime = []\n",
        "\n",
        "for x in range(amount):\n",
        "  gc.collect()\n",
        "  torch.cuda.empty_cache()\n",
        "  start = time.time()\n",
        "  if rand == True:\n",
        "    setseed = random.randint(100000,10000000)\n",
        "  else:\n",
        "    seed = 6 #@param {type:'integer'}\n",
        "    setseed = seed\n",
        "  image = pipe(\n",
        "      # prompt_embeds=conditioning, pooled_prompt_embeds=pooled,\n",
        "      prompt=prompt,\n",
        "      negative_prompt=negative_prompt,\n",
        "      seed=setseed,\n",
        "      width=W,\n",
        "      height=H,\n",
        "      guidance_scale=guidance_scale,\n",
        "      guidance_rescale=guidance_rescale,\n",
        "      target_size=(W,H),\n",
        "      original_size=(4096,4096),\n",
        "      num_inference_steps=num_inference_steps,\n",
        "      truncation=True\n",
        "      ).images[0]\n",
        "  output=f\"{outputbase}{num}_{setseed}.png\"\n",
        "  image.save(output)\n",
        "  image = Image.open(output)\n",
        "  plt.imshow(image)\n",
        "  end = time.time()\n",
        "  length = end - start\n",
        "  arrayTime.append(length)\n",
        "  num=num+1\n",
        "\n",
        "end = time.time()\n",
        "length = end - start\n",
        "print(\"It took\", math.floor(length/60), \"minutes\", math.floor(length%60), \"seconds!\")\n",
        "textFile.write(f\"\\n\\nTITLE: {startNum}--{num-1} {outputbase} {W}x{H}px\\n + {prompt}\\n - {negative_prompt}\\n guide scale/rescale: {guidance_scale}/{guidance_rescale}\\n steps: {num_inference_steps}\\nIt took {math.floor(length/60)} minutes {math.floor(length%60)} seconds!\")\n",
        "textFile.close()\n",
        "gc.collect()\n",
        "torch.cuda.empty_cache()"
      ],
      "metadata": {
        "id": "P69H37DAqHC8",
        "colab": {
          "base_uri": "https://localhost:8080/",
          "height": 81,
          "referenced_widgets": [
            "a479ffbc59df471092d22f6278008763",
            "d20369c603d042c58dbd727507dd2598",
            "0262900a3c1a4010a920f6ab5d5bf32c",
            "65a8babaf1ea40838adb761c400122e5",
            "0f75f398c79b4535983f1433420b6d1d",
            "98770969595b47488a0e71364d35b5f0",
            "a7114f3b17da4832a4335a04416a8dff",
            "e7561d16ee444a5b95292efd1f16e416",
            "80822e1cc77e47668ba2286d80b08f84",
            "5c536d044efc4510bad0287ecfbcc6f6",
            "8159a6150afa472b8976c8ea2ec4e241",
            "1c9596ca147c4cbf96c7316d546f2af6",
            "ffa55d8fc88c44ecb5ec637b1a53d368",
            "9433291a7f944d63a9c395829dff705b",
            "a809f509944a4cdab4926e2389edd14a",
            "7c79d9a645114721b7b18fb271dfe62e",
            "08742e537f5b43cf9008a5122309bccd",
            "29d3294d25af43e9839e261eda8b652e",
            "508a4af09446495c9f24d8f86dee3306",
            "94a2d7139b594b6f82e35ef2f30c09b4",
            "25a0172e869c4012a24017020990f1f5",
            "04a7c8ce291f4301b53a500f5c0cc5b5"
          ]
        },
        "outputId": "aebc29c9-2a77-4be2-f43b-c6f799cb39d6"
      },
      "execution_count": null,
      "outputs": [
        {
          "output_type": "display_data",
          "data": {
            "text/plain": [
              "  0%|          | 0/28 [00:00<?, ?it/s]"
            ],
            "application/vnd.jupyter.widget-view+json": {
              "version_major": 2,
              "version_minor": 0,
              "model_id": "a479ffbc59df471092d22f6278008763"
            }
          },
          "metadata": {}
        },
        {
          "output_type": "display_data",
          "data": {
            "text/plain": [
              "  0%|          | 0/28 [00:00<?, ?it/s]"
            ],
            "application/vnd.jupyter.widget-view+json": {
              "version_major": 2,
              "version_minor": 0,
              "model_id": "1c9596ca147c4cbf96c7316d546f2af6"
            }
          },
          "metadata": {}
        }
      ]
    },
    {
      "cell_type": "code",
      "source": [
        "import torch, gc\n",
        "gc.collect()\n",
        "torch.cuda.empty_cache()"
      ],
      "metadata": {
        "id": "T4hxHQY6y4WE"
      },
      "execution_count": null,
      "outputs": []
    },
    {
      "cell_type": "code",
      "source": [
        "#@title #**2.2 PLAY IMG2IMG SD COMING SOON**\n",
        "url = \"\"\n",
        "init_image = load_image(url).convert(\"RGB\")\n",
        "prompt = \"a photo of an astronaut riding a horse on mars\"\n",
        "image = pipe(prompt, image=init_image).images"
      ],
      "metadata": {
        "id": "PrI49jkhqlbt"
      },
      "execution_count": null,
      "outputs": []
    },
    {
      "cell_type": "code",
      "source": [
        "!pip install numba\n",
        "from numba import cuda\n",
        "device = cuda.get_current_device()\n",
        "device.reset()"
      ],
      "metadata": {
        "id": "BJns1uUM8K1l"
      },
      "execution_count": null,
      "outputs": []
    },
    {
      "cell_type": "code",
      "source": [
        "#@title **REMOVE ALL**\n",
        "!rm \"/content/\"*.png"
      ],
      "metadata": {
        "id": "43cmSm8zEEO1"
      },
      "execution_count": null,
      "outputs": []
    },
    {
      "cell_type": "code",
      "source": [
        "!rm f\"/content/{outputbase}{num-1}_{setseed}.png\""
      ],
      "metadata": {
        "id": "q6i9CLxwrXk3"
      },
      "execution_count": null,
      "outputs": []
    },
    {
      "cell_type": "code",
      "source": [
        "#@title #**3.0 Connect & Save to Google Drive**\n",
        "from google.colab import drive\n",
        "import datetime\n",
        "\n",
        "drive.mount('/content/drive')\n",
        "\n",
        "x = datetime.datetime.now().strftime(\"%Y_%m_%d\")\n",
        "!mkdir \"/content/drive/MyDrive/Colab Notebooks/{x}\"\n",
        "\n",
        "!mkdir \"/content/drive/MyDrive/Colab Notebooks/{x}/prompt{prompt_num}\"\n",
        "\n",
        "!mv \"/content/\"*.png \"/content/drive/MyDrive/Colab Notebooks/{x}/prompt{prompt_num}\"\n",
        "!mv \"/content/\"*.txt \"/content/drive/MyDrive/Colab Notebooks/{x}/prompt{prompt_num}\"\n",
        "\n",
        "prompt_num = prompt_num + 1"
      ],
      "metadata": {
        "id": "aFqO2Idf9bFr"
      },
      "execution_count": null,
      "outputs": []
    },
    {
      "cell_type": "code",
      "source": [
        "!mv /content/dir {dir}"
      ],
      "metadata": {
        "id": "CluOv9T87XmH"
      },
      "execution_count": null,
      "outputs": []
    },
    {
      "cell_type": "code",
      "source": [
        "!mkdir outputs"
      ],
      "metadata": {
        "id": "6cSWetfP-gk5"
      },
      "execution_count": null,
      "outputs": []
    },
    {
      "cell_type": "code",
      "source": [
        "!mv \"/content/\"*.png \"/content/outputs\""
      ],
      "metadata": {
        "id": "j3jOiql0-pSz"
      },
      "execution_count": null,
      "outputs": []
    },
    {
      "cell_type": "code",
      "source": [
        "!smi-nvidia"
      ],
      "metadata": {
        "id": "foJEWcrREsiW"
      },
      "execution_count": null,
      "outputs": []
    }
  ]
}
