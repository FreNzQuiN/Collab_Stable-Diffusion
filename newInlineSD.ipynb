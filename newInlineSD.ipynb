{
  "nbformat": 4,
  "nbformat_minor": 0,
  "metadata": {
    "colab": {
      "provenance": [],
      "gpuType": "T4",
      "include_colab_link": true
    },
    "kernelspec": {
      "name": "python3",
      "display_name": "Python 3"
    },
    "language_info": {
      "name": "python"
    },
    "accelerator": "GPU"
  },
  "cells": [
    {
      "cell_type": "markdown",
      "metadata": {
        "id": "view-in-github",
        "colab_type": "text"
      },
      "source": [
        "<a href=\"https://colab.research.google.com/github/FreNzQuiN/Collab_Stable-Diffusion/blob/main/newInlineSD.ipynb\" target=\"_parent\"><img src=\"https://colab.research.google.com/assets/colab-badge.svg\" alt=\"Open In Colab\"/></a>"
      ]
    },
    {
      "cell_type": "code",
      "source": [
        "!pip install -q --upgrade diffusers invisible_watermark transformers accelerate safetensors compel\n",
        "import torch\n",
        "from torch import autocast\n",
        "from diffusers import StableDiffusionXLPipeline, DDIMScheduler #EulerAncestralDiscreteScheduler,\n",
        "\n",
        "model = \"linaqruf/animagine-xl\"\n",
        "\n",
        "pipe = StableDiffusionXLPipeline.from_pretrained(\n",
        "    model,\n",
        "    torch_dtype=torch.float16,\n",
        "    use_safetensors=True,\n",
        "    safety_checker = None,\n",
        "    requires_safety_checker = False,\n",
        "    variant=\"fp16\",\n",
        "    )\n",
        "pipe.scheduler = DDIMScheduler(beta_start=0.00085, beta_end=0.012, beta_schedule=\"scaled_linear\", clip_sample=False, set_alpha_to_one=False)\n",
        "pipe.to('cuda')\n"
      ],
      "metadata": {
        "id": "yOZXfJRCqFg0"
      },
      "execution_count": null,
      "outputs": []
    },
    {
      "cell_type": "code",
      "source": [
        "num=0\n",
        "def disabled_safety_checker(images, clip_input):\n",
        "    if len(images.shape)==4:\n",
        "        num_images = images.shape[0]\n",
        "        return images, [False]*num_images\n",
        "    else:\n",
        "        return images, False\n",
        "pipe.safety_checker = disabled_safety_checker"
      ],
      "metadata": {
        "id": "TX5cV32X0-yJ"
      },
      "execution_count": null,
      "outputs": []
    },
    {
      "cell_type": "code",
      "source": [
        "from compel import Compel, ReturnedEmbeddingsType\n",
        "import matplotlib.pyplot as plt\n",
        "from PIL import Image\n",
        "import random\n",
        "import torch, gc\n",
        "\n",
        "prompt = \"anime girl white hair, vivid color, art splash\"\n",
        "negative_prompt = \"lowres, bad anatomy, bad hands, text, error, missing fingers, extra digit, fewer digits, cropped, worst quality, low quality, normal quality, jpeg artifacts, signature, watermark, username, blurry\"\n",
        "outputbase = \"/content/anime_girl\"\n",
        "compel = Compel(\n",
        "  tokenizer=[pipe.tokenizer, pipe.tokenizer_2] ,\n",
        "  text_encoder=[pipe.text_encoder, pipe.text_encoder_2],\n",
        "  returned_embeddings_type=ReturnedEmbeddingsType.PENULTIMATE_HIDDEN_STATES_NON_NORMALIZED,\n",
        "  requires_pooled=[False, True]\n",
        ")\n",
        "conditioning, pooled = compel(prompt)\n",
        "W = 1024\n",
        "H = 1424\n",
        "setseed = random.randint(0,1000000)\n",
        "\n",
        "for x in range(1):\n",
        "  gc.collect()\n",
        "  torch.cuda.empty_cache()\n",
        "  image = pipe(\n",
        "      #prompt_embeds=conditioning, pooled_prompt_embeds=pooled,\n",
        "      prompt=prompt,\n",
        "      negative_prompt=negative_prompt,\n",
        "      seed=setseed,\n",
        "      width=W,\n",
        "      height=H,\n",
        "      guidance_scale=6,\n",
        "      guidance_rescale=0.9,\n",
        "      target_size=(W,H),\n",
        "      original_size=(4096,4096),\n",
        "      num_inference_steps=25\n",
        "      ).images[0]\n",
        "  output=f\"{outputbase}{num}_{setseed}.png\"\n",
        "  image.save(output)\n",
        "  image = Image.open(output)\n",
        "  plt.imshow(image)\n",
        "  num=num+1\n",
        "gc.collect()\n",
        "torch.cuda.empty_cache()\n"
      ],
      "metadata": {
        "id": "P69H37DAqHC8"
      },
      "execution_count": null,
      "outputs": []
    },
    {
      "cell_type": "code",
      "source": [
        "import torch, gc\n",
        "gc.collect()\n",
        "torch.cuda.empty_cache()"
      ],
      "metadata": {
        "id": "T4hxHQY6y4WE"
      },
      "execution_count": null,
      "outputs": []
    },
    {
      "cell_type": "code",
      "source": [
        "!pip install numba\n",
        "from numba import cuda\n",
        "device = cuda.get_current_device()\n",
        "device.reset()"
      ],
      "metadata": {
        "id": "BJns1uUM8K1l"
      },
      "execution_count": null,
      "outputs": []
    },
    {
      "cell_type": "code",
      "source": [
        "!rm \"/content/\"*.png"
      ],
      "metadata": {
        "id": "43cmSm8zEEO1"
      },
      "execution_count": null,
      "outputs": []
    },
    {
      "cell_type": "code",
      "source": [
        "#@title (STEP 1) Connect to Google Drive\n",
        "from google.colab import drive\n",
        "drive.mount('/content/drive')\n",
        "\n",
        "TheDate = \"2024-12-04\" #@param {type:'string'}\n",
        "!mv \"/content/outputs/\" \"/content/drive/MyDrive/\"{Thedate}/"
      ],
      "metadata": {
        "id": "aFqO2Idf9bFr"
      },
      "execution_count": null,
      "outputs": []
    },
    {
      "cell_type": "code",
      "source": [
        "!mkdir outputs"
      ],
      "metadata": {
        "id": "6cSWetfP-gk5"
      },
      "execution_count": null,
      "outputs": []
    },
    {
      "cell_type": "code",
      "source": [
        "!mv \"/content/\"*.png \"/content/outputs\""
      ],
      "metadata": {
        "id": "j3jOiql0-pSz"
      },
      "execution_count": null,
      "outputs": []
    },
    {
      "cell_type": "code",
      "source": [
        "!smi-nvidia"
      ],
      "metadata": {
        "id": "foJEWcrREsiW"
      },
      "execution_count": null,
      "outputs": []
    }
  ]
}